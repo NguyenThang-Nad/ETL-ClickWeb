{
 "cells": [
  {
   "cell_type": "code",
   "execution_count": 1,
   "metadata": {},
   "outputs": [],
   "source": [
    "import findspark\n",
    "findspark.init()\n",
    "import os\n",
    "import time\n",
    "import datetime\n",
    "import pyspark.sql.functions as sf\n",
    "from uuid import *\n",
    "from pyspark.sql import SparkSession\n",
    "from pyspark.sql import SQLContext\n",
    "from pyspark.sql.functions import when\n",
    "from pyspark.sql.functions import col\n",
    "from pyspark.sql.types import *\n",
    "from pyspark.sql.functions import lit\n",
    "from pyspark import SparkConf, SparkContext\n",
    "from uuid import * \n",
    "from uuid import UUID\n",
    "import time_uuid \n",
    "from pyspark.sql import Row\n",
    "from pyspark.sql.functions import udf\n",
    "from pyspark.sql.functions import monotonically_increasing_id\n",
    "from pyspark.sql.window import Window as W"
   ]
  },
  {
   "cell_type": "code",
   "execution_count": 2,
   "metadata": {},
   "outputs": [],
   "source": [
    "os.environ['PYSPARK_PYTHON'] = sys.executable\n",
    "os.environ['PYSPARK_DRIVER_PYTHON'] = sys.executable"
   ]
  },
  {
   "cell_type": "code",
   "execution_count": 3,
   "metadata": {},
   "outputs": [],
   "source": [
    "spark = SparkSession.builder.config(\"spark.jars.packages\",'com.datastax.spark:spark-cassandra-connector_2.12:3.1.0').getOrCreate()"
   ]
  },
  {
   "cell_type": "code",
   "execution_count": 4,
   "metadata": {},
   "outputs": [],
   "source": [
    "df = spark.read.format(\"org.apache.spark.sql.cassandra\").options(table='tracking',keyspace='mydata').load()"
   ]
  },
  {
   "cell_type": "code",
   "execution_count": 5,
   "metadata": {},
   "outputs": [
    {
     "name": "stdout",
     "output_type": "stream",
     "text": [
      "+--------------------+----+----------+-----------+---+------------+-----+--------------------+---------------+--------------------+---+--------+----+------+----+------------+--------------------+---------+--------------------+----+--------------------+-------------------+------------+-----------+----------+----------+--------+---+--------+\n",
      "|         create_time| bid|        bn|campaign_id| cd|custom_track|   de|                  dl|             dt|                  ed| ev|group_id|  id|job_id|  md|publisher_id|                  rl|       sr|                  ts|  tz|                  ua|                uid|utm_campaign|utm_content|utm_medium|utm_source|utm_term|  v|      vp|\n",
      "+--------------------+----+----------+-----------+---+------------+-----+--------------------+---------------+--------------------+---+--------+----+------+----+------------+--------------------+---------+--------------------+----+--------------------+-------------------+------------+-----------+----------+----------+--------+---+--------+\n",
      "|5a255270-0209-11e...|null| Chrome 96|       null| 24|  conversion|UTF-8|http://150.136.2....|CandidatePortal|{\"customEvent\":\"c...|  2|    null|null|  null|true|        null|                null|1920x1080|2022-07-12 17:37:...|-420|Mozilla/5.0 (X11;...|1-o23lt45w-l516d965|        null|       null|      null|      null|    null|  1|1920x919|\n",
      "|1500baa0-0901-11e...|null|Chrome 103|       null| 24|        null|UTF-8|http://129.213.68...|CandidatePortal|                null|  1|    null|null|  null|true|        null|                null|1920x1080|2022-07-21 14:26:...| 240|Mozilla/5.0 (Wind...|1-eb7odtp7-l4o6dg83|        null|       null|      null|      null|    null|  1|1920x961|\n",
      "|d4878700-0b59-11e...|   1|Chrome 103|         48| 24|       click|UTF-8|http://fe.dev.got...|CandidatePortal|{\"customEvent\":\"c...|  2|      34|null|   188|true|           1|                null| 1366x768|2022-07-24 14:06:...|-420|Mozilla/5.0 (Wind...|1-zof0i457-l5ze6uuv|        null|       null|      null|      null|    null|  1|1366x625|\n",
      "|006cbc10-0744-11e...|null|Chrome 102|       null| 24|        null|UTF-8|http://localhost:...|CandidatePortal|                null|  1|    null|null|  null|true|        null|http://localhost:...|1920x1080|2022-07-19 09:20:...|-420|Mozilla/5.0 (Maci...|1-ok78d38x-l5j7ka8p|        null|       null|      null|      null|    null|  1|1391x976|\n",
      "|7995e080-0735-11e...|null|Chrome 103|       null| 24|        null|UTF-8|http://150.230.18...|CandidatePortal|                null|  1|    null|null|  null|true|        null|                null| 1536x864|2022-07-19 07:36:...|-420|Mozilla/5.0 (Wind...|1-p23ywm7j-l4wezf4t|        null|       null|      null|      null|    null|  1|1536x722|\n",
      "+--------------------+----+----------+-----------+---+------------+-----+--------------------+---------------+--------------------+---+--------+----+------+----+------------+--------------------+---------+--------------------+----+--------------------+-------------------+------------+-----------+----------+----------+--------+---+--------+\n",
      "only showing top 5 rows\n",
      "\n",
      "6662\n"
     ]
    }
   ],
   "source": [
    "df.show(5)\n",
    "print(df.count())"
   ]
  },
  {
   "cell_type": "code",
   "execution_count": 6,
   "metadata": {},
   "outputs": [],
   "source": [
    "host ='localhost'\n",
    "port='3306'\n",
    "db_name='mydata'\n",
    "user='root'\n",
    "password='1'\n",
    "url='jdbc:mysql://' + host +':' + port +'/' + db_name\n",
    "driver=\"com.mysql.cj.jdbc.Driver\"\n",
    "sql=\"\"\"(SELECT id as job_id, company_id FROM job) test \"\"\"\n",
    "mysql_data = spark.read.format('jdbc').options(url=url, driver=driver, dbtable=sql, user=user, password=password).load()"
   ]
  },
  {
   "cell_type": "code",
   "execution_count": 7,
   "metadata": {},
   "outputs": [],
   "source": [
    "def process_timeuuid(df):\n",
    "    spark_time = df.select('create_time').collect()\n",
    "    normal_time = []\n",
    "    for i in range(len(spark_time)):\n",
    "        a = time_uuid.TimeUUID(bytes = UUID(spark_time[i][0]).bytes).get_datetime().strftime('%Y-%m-%d %H:%M:%S')\n",
    "        normal_time.append(a)\n",
    "    spark_timeuuid = []\n",
    "    for i in range(len(spark_time)):\n",
    "        spark_timeuuid.append(spark_time[i][0])\n",
    "    time_data = spark.createDataFrame(zip(spark_timeuuid,normal_time),['create_time','ts'])\n",
    "    result = df.join(time_data,['create_time'],'inner').drop(df.ts)\n",
    "    result = result.select('create_time','ts','bid','job_id','campaign_id','custom_track','group_id','publisher_id')\n",
    "    return result"
   ]
  },
  {
   "cell_type": "code",
   "execution_count": 8,
   "metadata": {},
   "outputs": [
    {
     "name": "stdout",
     "output_type": "stream",
     "text": [
      "+--------------------+-------------------+----+------+-----------+------------+--------+------------+\n",
      "|         create_time|                 ts| bid|job_id|campaign_id|custom_track|group_id|publisher_id|\n",
      "+--------------------+-------------------+----+------+-----------+------------+--------+------------+\n",
      "|ebbecd00-018d-11e...|2022-07-12 02:54:17|null|  null|       null|       click|    null|        null|\n",
      "|5047c9c0-00c6-11e...|2022-07-11 03:05:26|null|  null|       null|        null|    null|        null|\n",
      "|a54b7240-0d60-11e...|2022-07-27 04:00:25|null|  null|       null|       alive|    null|        null|\n",
      "|c87ad3f0-00ef-11e...|2022-07-11 08:02:17|null|  null|       null|        null|    null|        null|\n",
      "|be352470-0cae-11e...|2022-07-26 06:46:57|   1|   258|         93|       click|    null|           1|\n",
      "|cd00c920-0c93-11e...|2022-07-26 03:34:05|null|  null|       null|       alive|    null|        null|\n",
      "|da5200d0-0c8e-11e...|2022-07-26 02:58:40|   0|  1531|        222|        null|    null|           1|\n",
      "|ddaff5e0-0caf-11e...|2022-07-26 06:54:59|   0|   273|         48|        null|    null|           1|\n",
      "|71b22d90-0b38-11e...|2022-07-24 10:07:37|   1|   188|         48|        null|      34|           1|\n",
      "|2955a6a0-0848-11e...|2022-07-20 16:22:34|null|  null|       null|        null|    null|        null|\n",
      "|7cd49d50-0c02-11e...|2022-07-25 10:13:54|null|  null|       null|        null|    null|        null|\n",
      "|3c29c750-00f2-11e...|2022-07-11 08:19:50|null|  null|       null|        null|    null|        null|\n",
      "|4c626ae0-fea5-11e...|2022-07-08 10:04:04|null|  null|       null|       alive|    null|        null|\n",
      "|350a1420-0075-11e...|2022-07-10 17:24:51|null|  null|       null|       click|    null|        null|\n",
      "|28292e10-04e6-11e...|2022-07-16 09:03:28|null|  null|       null|        null|    null|        null|\n",
      "|7b431820-0c13-11e...|2022-07-25 12:15:33|null|  null|       null|        null|    null|        null|\n",
      "|2235c1d0-0077-11e...|2022-07-10 17:38:39|null|  null|       null|       click|    null|        null|\n",
      "|6a737360-0078-11e...|2022-07-10 17:47:50|null|  null|       null|       click|    null|        null|\n",
      "|244ea310-0261-11e...|2022-07-13 04:06:16|null|  null|       null|        null|    null|        null|\n",
      "|4f661bf0-0cb1-11e...|2022-07-26 07:05:19|null|  null|       null|       alive|    null|        null|\n",
      "+--------------------+-------------------+----+------+-----------+------------+--------+------------+\n",
      "only showing top 20 rows\n",
      "\n"
     ]
    }
   ],
   "source": [
    "process_timeuuid(df).show()"
   ]
  },
  {
   "cell_type": "code",
   "execution_count": 9,
   "metadata": {},
   "outputs": [],
   "source": [
    "process_df=process_timeuuid(df)"
   ]
  },
  {
   "cell_type": "code",
   "execution_count": 10,
   "metadata": {},
   "outputs": [],
   "source": [
    "def calculating_clicks(process_df):\n",
    "    clicks_data = process_df.filter(process_df.custom_track == 'click')\n",
    "    clicks_data = clicks_data.na.fill({'bid':0})\n",
    "    clicks_data = clicks_data.na.fill({'job_id':0})\n",
    "    clicks_data = clicks_data.na.fill({'campaign_id':0})\n",
    "    clicks_data = clicks_data.na.fill({'group_id':0})\n",
    "    clicks_data = clicks_data.na.fill({'publisher_id':0})\n",
    "    clicks_data.registerTempTable('clicks')\n",
    "    clicks_output = spark.sql(\"\"\"with cte1 as (select create_time , ts , date(ts) as Date , hour(ts) as hour,\n",
    "    bid,job_id,campaign_id,group_id,publisher_id from clicks)\n",
    "    select job_id,publisher_id,date,hour,campaign_id,group_id ,\n",
    "    sum(bid) as spend_hour , count(create_time) as clicks , avg(bid) as bid_set \n",
    "    from cte1\n",
    "    group by job_id,publisher_id,date,hour,campaign_id,group_id\"\"\")\n",
    "    return clicks_output \n"
   ]
  },
  {
   "cell_type": "code",
   "execution_count": 11,
   "metadata": {},
   "outputs": [],
   "source": [
    "def calculating_conversion(process_df):\n",
    "    conversion_data = process_df.filter(process_df.custom_track == 'conversion')\n",
    "    conversion_data = conversion_data.na.fill({'job_id':0})\n",
    "    conversion_data = conversion_data.na.fill({'campaign_id':0})\n",
    "    conversion_data = conversion_data.na.fill({'group_id':0})\n",
    "    conversion_data = conversion_data.na.fill({'publisher_id':0})\n",
    "    conversion_data.registerTempTable('conversion_data')\n",
    "    conversion_data = spark.sql(\"\"\"with cte1 as (select create_time , ts , date(ts) as Date , hour(ts) as hour\n",
    "    ,job_id,campaign_id,group_id,publisher_id from clicks)\n",
    "    select job_id,publisher_id,date,hour,campaign_id,group_id ,\n",
    "    count(create_time) as conversion \n",
    "    from cte1\n",
    "    group by job_id,publisher_id,date,hour,campaign_id,group_id\"\"\")\n",
    "    return conversion_data"
   ]
  },
  {
   "cell_type": "code",
   "execution_count": 12,
   "metadata": {},
   "outputs": [
    {
     "name": "stderr",
     "output_type": "stream",
     "text": [
      "C:\\spark\\python\\pyspark\\sql\\dataframe.py:138: FutureWarning: Deprecated in 2.0, use createOrReplaceTempView instead.\n",
      "  warnings.warn(\n"
     ]
    },
    {
     "name": "stdout",
     "output_type": "stream",
     "text": [
      "+------+------------+----------+----+-----------+--------+----------+------+-------+\n",
      "|job_id|publisher_id|      date|hour|campaign_id|group_id|spend_hour|clicks|bid_set|\n",
      "+------+------------+----------+----+-----------+--------+----------+------+-------+\n",
      "|     0|           0|2022-07-22|   2|          0|       0|         0|     9|    0.0|\n",
      "|     0|           0|2022-07-21|   5|          0|       0|         0|     9|    0.0|\n",
      "|     0|           0|2022-07-13|  10|          0|       0|         0|    10|    0.0|\n",
      "|     0|           0|2022-07-15|   2|          0|       0|         0|     3|    0.0|\n",
      "|     0|           0|2022-07-11|   1|          0|       0|         0|     4|    0.0|\n",
      "|     0|           0|2022-07-20|  15|          0|       0|         0|     2|    0.0|\n",
      "|     0|           0|2022-07-12|  13|          0|       0|         0|     1|    0.0|\n",
      "|     0|           0|2022-07-21|  12|          0|       0|         0|     3|    0.0|\n",
      "|     0|           0|2022-07-11|   7|          0|       0|         0|    72|    0.0|\n",
      "|     0|           0|2022-07-20|   2|          0|       0|         0|     1|    0.0|\n",
      "|     0|           0|2022-07-14|  18|          0|       0|         0|     1|    0.0|\n",
      "|  1530|           1|2022-07-27|   4|        222|       0|         0|    10|    0.0|\n",
      "|   187|           1|2022-07-08|   6|         48|       0|        12|     6|    2.0|\n",
      "|     0|           0|2022-07-14|   5|          0|       0|         0|     2|    0.0|\n",
      "|     0|           0|2022-07-26|   3|          0|       0|         0|    22|    0.0|\n",
      "|     0|           0|2022-07-18|   7|          0|       0|         0|    21|    0.0|\n",
      "|     0|           0|2022-07-25|   8|          0|       0|         0|     2|    0.0|\n",
      "|     0|           0|2022-07-10|  16|          0|       0|         0|    30|    0.0|\n",
      "|     0|           0|2022-07-14|   7|          0|       0|         0|     5|    0.0|\n",
      "|  1529|           1|2022-07-26|   6|        222|       0|         0|    11|    0.0|\n",
      "+------+------------+----------+----+-----------+--------+----------+------+-------+\n",
      "only showing top 20 rows\n",
      "\n"
     ]
    }
   ],
   "source": [
    "calculating_clicks(process_df).show()"
   ]
  },
  {
   "cell_type": "code",
   "execution_count": 13,
   "metadata": {},
   "outputs": [],
   "source": [
    "def calculating_qualified(process_df):\n",
    "    conversion_data = process_df.filter(process_df.custom_track == 'qualified')\n",
    "    conversion_data = conversion_data.na.fill({'job_id':0})\n",
    "    conversion_data = conversion_data.na.fill({'campaign_id':0})\n",
    "    conversion_data = conversion_data.na.fill({'group_id':0})\n",
    "    conversion_data = conversion_data.na.fill({'publisher_id':0})\n",
    "    conversion_data.registerTempTable('conversion_data')\n",
    "    conversion_data = spark.sql(\"\"\"with cte1 as (select create_time , ts , date(ts) as Date , hour(ts) as hour\n",
    "    ,job_id,campaign_id,group_id,publisher_id from clicks)\n",
    "    select job_id,publisher_id,date,hour,campaign_id,group_id ,\n",
    "    count(create_time) as qualified \n",
    "    from cte1\n",
    "    group by job_id,publisher_id,date,hour,campaign_id,group_id\"\"\")\n",
    "    return conversion_data"
   ]
  },
  {
   "cell_type": "code",
   "execution_count": 14,
   "metadata": {},
   "outputs": [],
   "source": [
    "def calculating_unqualified(process_df):\n",
    "    conversion_data = process_df.filter(process_df.custom_track == 'unqualified')\n",
    "    conversion_data = conversion_data.na.fill({'job_id':0})\n",
    "    conversion_data = conversion_data.na.fill({'campaign_id':0})\n",
    "    conversion_data = conversion_data.na.fill({'group_id':0})\n",
    "    conversion_data = conversion_data.na.fill({'publisher_id':0})\n",
    "    conversion_data.registerTempTable('conversion_data')\n",
    "    conversion_data = spark.sql(\"\"\"with cte1 as (select create_time , ts , date(ts) as Date , hour(ts) as hour\n",
    "    ,job_id,campaign_id,group_id,publisher_id from clicks)\n",
    "    select job_id,publisher_id,date,hour,campaign_id,group_id ,\n",
    "    count(create_time) as unqualified \n",
    "    from cte1\n",
    "    group by job_id,publisher_id,date,hour,campaign_id,group_id\"\"\")\n",
    "    return conversion_data"
   ]
  },
  {
   "cell_type": "code",
   "execution_count": 15,
   "metadata": {},
   "outputs": [],
   "source": [
    "def process_cassandra_output(process_df):\n",
    "    clicks_output = calculating_clicks(process_df)\n",
    "    conversion_output = calculating_conversion(process_df)\n",
    "    qualified_output = calculating_qualified(process_df)\n",
    "    unqualified_output = calculating_unqualified(process_df)\n",
    "    cassandra_output = clicks_output.join(conversion_output,['job_id','publisher_id','campaign_id','group_id','date','hour'],'full').\\\n",
    "    join(qualified_output,['job_id','publisher_id','campaign_id','group_id','date','hour'],'full').\\\n",
    "    join(unqualified_output,['job_id','publisher_id','campaign_id','group_id','date','hour'],'full')\n",
    "    return cassandra_output "
   ]
  },
  {
   "cell_type": "code",
   "execution_count": 16,
   "metadata": {},
   "outputs": [],
   "source": [
    "cassandra_output=process_cassandra_output(process_df)"
   ]
  },
  {
   "cell_type": "code",
   "execution_count": 17,
   "metadata": {},
   "outputs": [
    {
     "name": "stdout",
     "output_type": "stream",
     "text": [
      "+------+------------+-----------+--------+----------+----+----------+------+-------+----------+---------+-----------+\n",
      "|job_id|publisher_id|campaign_id|group_id|      date|hour|spend_hour|clicks|bid_set|conversion|qualified|unqualified|\n",
      "+------+------------+-----------+--------+----------+----+----------+------+-------+----------+---------+-----------+\n",
      "|     0|           0|          0|       0|2022-07-06|   9|         0|     1|    0.0|         1|        1|          1|\n",
      "|     0|           0|          0|       0|2022-07-07|   2|         0|     3|    0.0|         3|        3|          3|\n",
      "|     0|           0|          0|       0|2022-07-07|   3|         0|     2|    0.0|         2|        2|          2|\n",
      "|     0|           0|          0|       0|2022-07-08|   2|         0|    12|    0.0|        12|       12|         12|\n",
      "|     0|           0|          0|       0|2022-07-08|   4|         0|     3|    0.0|         3|        3|          3|\n",
      "|     0|           0|          0|       0|2022-07-08|   6|         0|     3|    0.0|         3|        3|          3|\n",
      "|     0|           0|          0|       0|2022-07-08|   8|         0|     1|    0.0|         1|        1|          1|\n",
      "|     0|           0|          0|       0|2022-07-08|  10|         0|    32|    0.0|        32|       32|         32|\n",
      "|     0|           0|          0|       0|2022-07-09|   7|         0|     4|    0.0|         4|        4|          4|\n",
      "|     0|           0|          0|       0|2022-07-09|  15|         0|     5|    0.0|         5|        5|          5|\n",
      "|     0|           0|          0|       0|2022-07-10|   1|         0|     1|    0.0|         1|        1|          1|\n",
      "|     0|           0|          0|       0|2022-07-10|  16|         0|    30|    0.0|        30|       30|         30|\n",
      "|     0|           0|          0|       0|2022-07-10|  17|         0|   166|    0.0|       166|      166|        166|\n",
      "|     0|           0|          0|       0|2022-07-10|  23|         0|     1|    0.0|         1|        1|          1|\n",
      "|     0|           0|          0|       0|2022-07-11|   1|         0|     4|    0.0|         4|        4|          4|\n",
      "|     0|           0|          0|       0|2022-07-11|   2|         0|     5|    0.0|         5|        5|          5|\n",
      "|     0|           0|          0|       0|2022-07-11|   3|         0|    23|    0.0|        23|       23|         23|\n",
      "|     0|           0|          0|       0|2022-07-11|   4|         0|     2|    0.0|         2|        2|          2|\n",
      "|     0|           0|          0|       0|2022-07-11|   6|         0|     2|    0.0|         2|        2|          2|\n",
      "|     0|           0|          0|       0|2022-07-11|   7|         0|    72|    0.0|        72|       72|         72|\n",
      "+------+------------+-----------+--------+----------+----+----------+------+-------+----------+---------+-----------+\n",
      "only showing top 20 rows\n",
      "\n"
     ]
    }
   ],
   "source": [
    "cassandra_output.show()"
   ]
  },
  {
   "cell_type": "code",
   "execution_count": 22,
   "metadata": {},
   "outputs": [],
   "source": [
    "def mapping_mysql_field(cassandra_output,url,driver,user,password):\n",
    "    sql = \"\"\"(SELECT id as job_id,group_id,company_id FROM job) test \"\"\"\n",
    "    company_id=spark.read.format('jdbc').options(url=url, driver=driver, dbtable=sql, user=user, password=password).load()\n",
    "    output=cassandra_output.join(company_id, cassandra_output.job_id == company_id.job_id, 'left').drop(company_id.job_id).drop(company_id.group_id)\n",
    "    return output"
   ]
  },
  {
   "cell_type": "code",
   "execution_count": 24,
   "metadata": {},
   "outputs": [],
   "source": [
    "output = mapping_mysql_field(cassandra_output,url,driver,user,password)"
   ]
  },
  {
   "cell_type": "code",
   "execution_count": 28,
   "metadata": {},
   "outputs": [
    {
     "name": "stdout",
     "output_type": "stream",
     "text": [
      "+------+------------+-----------+--------+----------+----+----------+------+-------+----------+---------+-----------+----------+\n",
      "|job_id|publisher_id|campaign_id|group_id|      date|hour|spend_hour|clicks|bid_set|conversion|qualified|unqualified|company_id|\n",
      "+------+------------+-----------+--------+----------+----+----------+------+-------+----------+---------+-----------+----------+\n",
      "|     0|           0|          0|       0|2022-07-06|   9|         0|     1|    0.0|         1|        1|          1|      null|\n",
      "|     0|           0|          0|       0|2022-07-07|   2|         0|     3|    0.0|         3|        3|          3|      null|\n",
      "|     0|           0|          0|       0|2022-07-07|   3|         0|     2|    0.0|         2|        2|          2|      null|\n",
      "|     0|           0|          0|       0|2022-07-08|   2|         0|    12|    0.0|        12|       12|         12|      null|\n",
      "|     0|           0|          0|       0|2022-07-08|   4|         0|     3|    0.0|         3|        3|          3|      null|\n",
      "|     0|           0|          0|       0|2022-07-08|   6|         0|     3|    0.0|         3|        3|          3|      null|\n",
      "|     0|           0|          0|       0|2022-07-08|   8|         0|     1|    0.0|         1|        1|          1|      null|\n",
      "|     0|           0|          0|       0|2022-07-08|  10|         0|    32|    0.0|        32|       32|         32|      null|\n",
      "|     0|           0|          0|       0|2022-07-09|   7|         0|     4|    0.0|         4|        4|          4|      null|\n",
      "|     0|           0|          0|       0|2022-07-09|  15|         0|     5|    0.0|         5|        5|          5|      null|\n",
      "|     0|           0|          0|       0|2022-07-10|   1|         0|     1|    0.0|         1|        1|          1|      null|\n",
      "|     0|           0|          0|       0|2022-07-10|  16|         0|    30|    0.0|        30|       30|         30|      null|\n",
      "|     0|           0|          0|       0|2022-07-10|  17|         0|   166|    0.0|       166|      166|        166|      null|\n",
      "|     0|           0|          0|       0|2022-07-10|  23|         0|     1|    0.0|         1|        1|          1|      null|\n",
      "|     0|           0|          0|       0|2022-07-11|   1|         0|     4|    0.0|         4|        4|          4|      null|\n",
      "|     0|           0|          0|       0|2022-07-11|   2|         0|     5|    0.0|         5|        5|          5|      null|\n",
      "|     0|           0|          0|       0|2022-07-11|   3|         0|    23|    0.0|        23|       23|         23|      null|\n",
      "|     0|           0|          0|       0|2022-07-11|   4|         0|     2|    0.0|         2|        2|          2|      null|\n",
      "|     0|           0|          0|       0|2022-07-11|   6|         0|     2|    0.0|         2|        2|          2|      null|\n",
      "|     0|           0|          0|       0|2022-07-11|   7|         0|    72|    0.0|        72|       72|         72|      null|\n",
      "+------+------------+-----------+--------+----------+----+----------+------+-------+----------+---------+-----------+----------+\n",
      "only showing top 20 rows\n",
      "\n"
     ]
    }
   ],
   "source": [
    "output.show()"
   ]
  },
  {
   "cell_type": "code",
   "execution_count": 25,
   "metadata": {
    "scrolled": true
   },
   "outputs": [
    {
     "name": "stdout",
     "output_type": "stream",
     "text": [
      "root\n",
      " |-- job_id: integer (nullable = true)\n",
      " |-- publisher_id: integer (nullable = true)\n",
      " |-- campaign_id: integer (nullable = true)\n",
      " |-- group_id: integer (nullable = true)\n",
      " |-- date: date (nullable = true)\n",
      " |-- hour: integer (nullable = true)\n",
      " |-- spend_hour: long (nullable = true)\n",
      " |-- clicks: long (nullable = true)\n",
      " |-- bid_set: double (nullable = true)\n",
      " |-- conversion: long (nullable = true)\n",
      " |-- qualified: long (nullable = true)\n",
      " |-- unqualified: long (nullable = true)\n",
      " |-- company_id: integer (nullable = true)\n",
      "\n"
     ]
    }
   ],
   "source": [
    "output.printSchema()"
   ]
  },
  {
   "cell_type": "code",
   "execution_count": 26,
   "metadata": {},
   "outputs": [],
   "source": [
    "def import_data_to_mysql(url,driver,user,password):\n",
    "    output.write.format(\"jdbc\") \\\n",
    "    .option(\"driver\",\"com.mysql.cj.jdbc.Driver\") \\\n",
    "    .option(\"url\", \"jdbc:mysql://localhost:3306/mydata\") \\\n",
    "    .option(\"dbtable\", \"event\") \\\n",
    "    .mode(\"append\") \\\n",
    "    .option(\"user\", \"root\") \\\n",
    "    .option(\"password\", \"1\") \\\n",
    "    .save()\n",
    "    return print('Successfully')"
   ]
  },
  {
   "cell_type": "code",
   "execution_count": 27,
   "metadata": {},
   "outputs": [
    {
     "name": "stdout",
     "output_type": "stream",
     "text": [
      "Successfully\n"
     ]
    }
   ],
   "source": [
    "import_data_to_mysql(url,driver,user,password)"
   ]
  },
  {
   "cell_type": "code",
   "execution_count": null,
   "metadata": {},
   "outputs": [],
   "source": []
  }
 ],
 "metadata": {
  "kernelspec": {
   "display_name": "Python 3 (ipykernel)",
   "language": "python",
   "name": "python3"
  },
  "language_info": {
   "codemirror_mode": {
    "name": "ipython",
    "version": 3
   },
   "file_extension": ".py",
   "mimetype": "text/x-python",
   "name": "python",
   "nbconvert_exporter": "python",
   "pygments_lexer": "ipython3",
   "version": "3.10.9"
  }
 },
 "nbformat": 4,
 "nbformat_minor": 4
}
