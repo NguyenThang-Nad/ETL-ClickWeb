{
 "cells": [
  {
   "cell_type": "code",
   "execution_count": 1,
   "metadata": {},
   "outputs": [],
   "source": [
    "import findspark\n",
    "findspark.init()\n",
    "import os\n",
    "import time\n",
    "import datetime\n",
    "import pyspark.sql.functions as sf\n",
    "from uuid import *\n",
    "from pyspark.sql import SparkSession\n",
    "from pyspark.sql import SQLContext\n",
    "from pyspark.sql.functions import when\n",
    "from pyspark.sql.functions import col\n",
    "from pyspark.sql.types import *\n",
    "from pyspark.sql.functions import lit\n",
    "from pyspark import SparkConf, SparkContext\n",
    "from uuid import * \n",
    "from uuid import UUID\n",
    "import time_uuid \n",
    "from pyspark.sql import Row\n",
    "from pyspark.sql.functions import udf\n",
    "from pyspark.sql.functions import monotonically_increasing_id\n",
    "from pyspark.sql.window import Window as W"
   ]
  },
  {
   "cell_type": "code",
   "execution_count": 2,
   "metadata": {},
   "outputs": [],
   "source": [
    "os.environ['PYSPARK_PYTHON'] = sys.executable\n",
    "os.environ['PYSPARK_DRIVER_PYTHON'] = sys.executable"
   ]
  },
  {
   "cell_type": "code",
   "execution_count": 3,
   "metadata": {},
   "outputs": [],
   "source": [
    "spark = SparkSession.builder.config(\"spark.jars.packages\",'com.datastax.spark:spark-cassandra-connector_2.12:3.1.0').getOrCreate()"
   ]
  },
  {
   "cell_type": "code",
   "execution_count": 4,
   "metadata": {},
   "outputs": [],
   "source": [
    "df = spark.read.format(\"org.apache.spark.sql.cassandra\").options(table='tracking',keyspace='mydata').load()"
   ]
  },
  {
   "cell_type": "code",
   "execution_count": 5,
   "metadata": {},
   "outputs": [
    {
     "name": "stdout",
     "output_type": "stream",
     "text": [
      "+--------------------+----+----------+-----------+---+------------+-----+--------------------+---------------+--------------------+---+--------+----+------+----+------------+----+---------+--------------------+----+--------------------+-------------------+------------+-----------+----------+----------+--------+---+--------+\n",
      "|         create_time| bid|        bn|campaign_id| cd|custom_track|   de|                  dl|             dt|                  ed| ev|group_id|  id|job_id|  md|publisher_id|  rl|       sr|                  ts|  tz|                  ua|                uid|utm_campaign|utm_content|utm_medium|utm_source|utm_term|  v|      vp|\n",
      "+--------------------+----+----------+-----------+---+------------+-----+--------------------+---------------+--------------------+---+--------+----+------+----+------------+----+---------+--------------------+----+--------------------+-------------------+------------+-----------+----------+----------+--------+---+--------+\n",
      "|b9735a90-fea0-11e...|   2|Chrome 103|          4| 24|        null|UTF-8|http://150.230.18...|CandidatePortal|                null|  1|    null|null|    98|true|           1|null| 1366x768|2022-07-08 09:31:...|-420|Mozilla/5.0 (Wind...|1-c5v39kv8-l5c94dee|        null|       null|      null|      null|    null|  1|1366x625|\n",
      "|80c0e390-094d-11e...|null| Chrome 96|       null| 24|        null|UTF-8|http://150.136.2....|CandidatePortal|                null|  1|    null|null|  null|true|        null|null|1920x1080|2022-07-21 23:33:...|-420|Mozilla/5.0 (X11;...|1-o23lt45w-l516d965|        null|       null|      null|      null|    null|  1|1599x980|\n",
      "|160a76e0-0c8d-11e...|   1|Chrome 103|         15| 24|        null|UTF-8|http://fe.dev.got...|CandidatePortal|                null|  1|    null|null|   336|true|           1|null| 1366x768|2022-07-26 02:46:...|-420|Mozilla/5.0 (Wind...|1-t8bqaiy4-l61kszmf|        null|       null|      null|      null|    null|  1|1366x625|\n",
      "|266bd6f0-02d3-11e...|null| Safari 13|       null| 24|       click|UTF-8|http://129.213.68...|CandidatePortal|{\"customEvent\":\"c...|  2|    null|null|  null|true|        null|null|  390x844|2022-07-13 17:42:...| 240|Mozilla/5.0 (iPho...|1-eb7odtp7-l4o6dg83|        null|       null|      null|      null|    null|  1| 390x844|\n",
      "|77054a50-0563-11e...|null|Chrome 102|       null| 24|        null|UTF-8|http://129.213.68...|CandidatePortal|                null|  1|    null|null|  null|true|        null|null| 1366x768|2022-07-17 00:00:...| 240|Mozilla/5.0 (Wind...|1-5s9feygw-l5ojxm3e|        null|       null|      null|      null|    null|  1|1366x768|\n",
      "+--------------------+----+----------+-----------+---+------------+-----+--------------------+---------------+--------------------+---+--------+----+------+----+------------+----+---------+--------------------+----+--------------------+-------------------+------------+-----------+----------+----------+--------+---+--------+\n",
      "only showing top 5 rows\n",
      "\n",
      "6662\n"
     ]
    }
   ],
   "source": [
    "df.show(5)\n",
    "print(df.count())"
   ]
  },
  {
   "cell_type": "code",
   "execution_count": 6,
   "metadata": {},
   "outputs": [],
   "source": [
    "def process_timeuuid(df):\n",
    "    spark_time = df.select('create_time').collect()\n",
    "    normal_time = []\n",
    "    for i in range(len(spark_time)):\n",
    "        a = time_uuid.TimeUUID(bytes = UUID(spark_time[i][0]).bytes).get_datetime().strftime('%Y-%m-%d %H:%M:%S')\n",
    "        normal_time.append(a)\n",
    "    spark_timeuuid = []\n",
    "    for i in range(len(spark_time)):\n",
    "        spark_timeuuid.append(spark_time[i][0])\n",
    "    time_data = spark.createDataFrame(zip(spark_timeuuid,normal_time),['create_time','ts'])\n",
    "    result = df.join(time_data,['create_time'],'inner').drop(df.ts)\n",
    "    result = result.select('create_time','ts','bid','job_id','campaign_id','custom_track','group_id','publisher_id')\n",
    "    return result"
   ]
  },
  {
   "cell_type": "code",
   "execution_count": 7,
   "metadata": {},
   "outputs": [],
   "source": [
    "process_df=process_timeuuid(df)"
   ]
  },
  {
   "cell_type": "code",
   "execution_count": 8,
   "metadata": {},
   "outputs": [
    {
     "name": "stdout",
     "output_type": "stream",
     "text": [
      "+--------------------+-------------------+----+------+-----------+------------+--------+------------+\n",
      "|         create_time|                 ts| bid|job_id|campaign_id|custom_track|group_id|publisher_id|\n",
      "+--------------------+-------------------+----+------+-----------+------------+--------+------------+\n",
      "|b70e2aa0-0986-11e...|2022-07-22 06:22:51|null|  null|       null|        null|    null|        null|\n",
      "|cb3ade10-018e-11e...|2022-07-12 03:00:32|null|  null|       null|       click|    null|        null|\n",
      "|34c02ee0-00ee-11e...|2022-07-11 07:51:00|null|  null|       null|        null|    null|        null|\n",
      "|ba5be830-0d7a-11e...|2022-07-27 07:07:08|null|  null|       null|        null|    null|        null|\n",
      "|b12df000-0d61-11e...|2022-07-27 04:07:55|   2|    98|          4|       click|    null|           1|\n",
      "|8ce37380-0caf-11e...|2022-07-26 06:52:44|   2|    98|          4|       click|    null|           1|\n",
      "|bc1f7ce0-fea2-11e...|2022-07-08 09:45:43|   2|    98|          4|        null|    null|           1|\n",
      "|4ea14ac0-0c00-11e...|2022-07-25 09:58:17|   0|  1527|        222|        null|    null|           1|\n",
      "|86583570-0d61-11e...|2022-07-27 04:06:43|   2|    98|          4|        null|    null|           1|\n",
      "|40089000-0975-11e...|2022-07-22 04:17:50|null|  null|       null|       click|    null|        null|\n",
      "|c089bef0-018e-11e...|2022-07-12 03:00:14|null|  null|       null|       click|    null|        null|\n",
      "|1f60dc10-fda7-11e...|2022-07-07 03:44:36|   0|   187|         48|       click|    null|           1|\n",
      "|cced4ce0-0cae-11e...|2022-07-26 06:47:22|   1|   187|         48|        null|      34|           1|\n",
      "|beaaf810-0076-11e...|2022-07-10 17:35:52|null|  null|       null|       click|    null|        null|\n",
      "|d3d587b0-0caf-11e...|2022-07-26 06:54:43|   0|   273|         48|        null|    null|           1|\n",
      "|da07f970-08b2-11e...|2022-07-21 05:06:17|null|  null|       null|       click|    null|        null|\n",
      "|ece11eb0-02c6-11e...|2022-07-13 16:14:51|null|  null|       null|        null|    null|        null|\n",
      "|57d9e780-0077-11e...|2022-07-10 17:40:09|null|  null|       null|       click|    null|        null|\n",
      "|252b4590-00ef-11e...|2022-07-11 07:57:43|null|  null|       null|        null|    null|        null|\n",
      "|0c191860-0294-11e...|2022-07-13 10:10:39|null|  null|       null|       click|    null|        null|\n",
      "+--------------------+-------------------+----+------+-----------+------------+--------+------------+\n",
      "only showing top 20 rows\n",
      "\n"
     ]
    }
   ],
   "source": [
    "process_df.show()"
   ]
  },
  {
   "cell_type": "code",
   "execution_count": 9,
   "metadata": {},
   "outputs": [
    {
     "data": {
      "text/plain": [
       "DataFrame[create_time: string, ts: string, bid: int, job_id: int, campaign_id: int, custom_track: string, group_id: int, publisher_id: int]"
      ]
     },
     "execution_count": 9,
     "metadata": {},
     "output_type": "execute_result"
    }
   ],
   "source": [
    "process_df.cache()"
   ]
  },
  {
   "cell_type": "code",
   "execution_count": 32,
   "metadata": {},
   "outputs": [],
   "source": [
    "def calculating_clicks(process_df):\n",
    "    click_data = process_df.filter(process_df.custom_track == 'click')\n",
    "    click_data = click_data.na.fill({'bid':0})\n",
    "    click_data = click_data.na.fill({'job_id':0})\n",
    "    click_data = click_data.na.fill({'campaign_id':0})\n",
    "    click_data = click_data.na.fill({'group_id':0})\n",
    "    click_data = click_data.na.fill({'publisher_id':0})\n",
    "    click_data.registerTempTable('clicks')\n",
    "    clicks_output=spark.sql(\"\"\"with cte1 as (select create_time , ts , date(ts) as Date , hour(ts) as hour,\n",
    "    bid,job_id,campaign_id,group_id,publisher_id from clicks)\n",
    "    select job_id,publisher_id,date,hour,campaign_id,group_id ,\n",
    "    sum(bid) as spend_hour , count(create_time) as clicks , avg(bid) as bid_set \n",
    "    from cte1\n",
    "    group by job_id,publisher_id,date,hour,campaign_id,group_id\"\"\")\n",
    "    return clicks_output\n"
   ]
  },
  {
   "cell_type": "code",
   "execution_count": null,
   "metadata": {},
   "outputs": [],
   "source": []
  }
 ],
 "metadata": {
  "kernelspec": {
   "display_name": "Python 3 (ipykernel)",
   "language": "python",
   "name": "python3"
  },
  "language_info": {
   "codemirror_mode": {
    "name": "ipython",
    "version": 3
   },
   "file_extension": ".py",
   "mimetype": "text/x-python",
   "name": "python",
   "nbconvert_exporter": "python",
   "pygments_lexer": "ipython3",
   "version": "3.10.9"
  }
 },
 "nbformat": 4,
 "nbformat_minor": 4
}
