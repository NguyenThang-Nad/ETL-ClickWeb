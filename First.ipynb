{
 "cells": [
  {
   "cell_type": "code",
   "execution_count": 4,
   "metadata": {},
   "outputs": [],
   "source": [
    "import findspark\n",
    "findspark.init()\n",
    "import os\n",
    "import time\n",
    "import datetime\n",
    "import pyspark.sql.functions as sf\n",
    "from uuid import *\n",
    "from pyspark.sql import SparkSession\n",
    "from pyspark.sql import SQLContext\n",
    "from pyspark.sql.functions import when\n",
    "from pyspark.sql.functions import col\n",
    "from pyspark.sql.types import *\n",
    "from pyspark.sql.functions import lit\n",
    "from pyspark import SparkConf, SparkContext\n",
    "from uuid import * \n",
    "from uuid import UUID\n",
    "import time_uuid \n",
    "from pyspark.sql import Row\n",
    "from pyspark.sql.functions import udf\n",
    "from pyspark.sql.functions import monotonically_increasing_id\n",
    "from pyspark.sql.window import Window as W"
   ]
  },
  {
   "cell_type": "code",
   "execution_count": 5,
   "metadata": {},
   "outputs": [],
   "source": [
    "os.environ['PYSPARK_PYTHON'] = sys.executable\n",
    "os.environ['PYSPARK_DRIVER_PYTHON'] = sys.executable"
   ]
  },
  {
   "cell_type": "code",
   "execution_count": 6,
   "metadata": {},
   "outputs": [],
   "source": [
    "spark = SparkSession.builder.config(\"spark.jars.packages\",'com.datastax.spark:spark-cassandra-connector_2.12:3.1.0').getOrCreate()"
   ]
  },
  {
   "cell_type": "code",
   "execution_count": 7,
   "metadata": {},
   "outputs": [],
   "source": [
    "df = spark.read.format(\"org.apache.spark.sql.cassandra\").options(table='tracking',keyspace='mydata').load()"
   ]
  },
  {
   "cell_type": "code",
   "execution_count": 8,
   "metadata": {},
   "outputs": [
    {
     "name": "stdout",
     "output_type": "stream",
     "text": [
      "+--------------------+----+----------+-----------+---+------------+-----+--------------------+---------------+--------------------+---+--------+----+------+----+------------+----+---------+--------------------+----+--------------------+-------------------+------------+-----------+----------+----------+--------+---+--------+\n",
      "|         create_time| bid|        bn|campaign_id| cd|custom_track|   de|                  dl|             dt|                  ed| ev|group_id|  id|job_id|  md|publisher_id|  rl|       sr|                  ts|  tz|                  ua|                uid|utm_campaign|utm_content|utm_medium|utm_source|utm_term|  v|      vp|\n",
      "+--------------------+----+----------+-----------+---+------------+-----+--------------------+---------------+--------------------+---+--------+----+------+----+------------+----+---------+--------------------+----+--------------------+-------------------+------------+-----------+----------+----------+--------+---+--------+\n",
      "|8d4bc290-0bfc-11e...|   1|Chrome 103|         48| 24|       click|UTF-8|http://fe.dev.got...|CandidatePortal|{\"customEvent\":\"c...|  2|      34|null|   188|true|           1|null| 1366x768|2022-07-25 09:31:...|-420|Mozilla/5.0 (Wind...|1-yh82s4al-l60jlqwa|        null|       null|      null|      null|    null|  1|1366x568|\n",
      "|3ce54830-0cb0-11e...|   0|Chrome 103|        222| 24|       click|UTF-8|http://fe.dev.got...|CandidatePortal|{\"customEvent\":\"c...|  2|    null|null|  1527|true|           1|null| 1366x768|2022-07-26 06:57:...|-420|Mozilla/5.0 (Wind...|1-kntupfok-l61tduvk|        null|       null|      null|      null|    null|  1|1366x625|\n",
      "|dc2b2230-089f-11e...|null|Chrome 103|       null| 24|       alive|UTF-8|http://150.230.18...|CandidatePortal|{\"customEvent\":\"a...|  2|    null|null|  null|true|        null|null|1920x1080|2022-07-21 02:50:...|-420|Mozilla/5.0 (Maci...|1-4lva4hrh-l5te7l3b|        null|       null|      null|      null|    null|  1|1920x884|\n",
      "|73756820-0437-11e...|null| chrome 99|       null| 24|        null|utf-8|http://150.136.2....|candidateportal|                null|  1|    null|null|  null|true|        null|null| 1536x864|2022-07-12 02:42:...|-420|mozilla/5.0 (wind...|1-m1rjmp9d-l4zajc12|        null|       null|      null|      null|    null|  1|1536x752|\n",
      "|47c41410-08ec-11e...|null|Chrome 102|       null| 24|        null|UTF-8|http://localhost:...|CandidatePortal|                null|  1|    null|null|  null|true|        null|null|1920x1080|2022-07-21 11:57:...|-420|Mozilla/5.0 (Maci...|1-ok78d38x-l5j7ka8p|        null|       null|      null|      null|    null|  1|1920x976|\n",
      "+--------------------+----+----------+-----------+---+------------+-----+--------------------+---------------+--------------------+---+--------+----+------+----+------------+----+---------+--------------------+----+--------------------+-------------------+------------+-----------+----------+----------+--------+---+--------+\n",
      "only showing top 5 rows\n",
      "\n",
      "6662\n"
     ]
    }
   ],
   "source": [
    "df.show(5)\n",
    "print(df.count())"
   ]
  },
  {
   "cell_type": "code",
   "execution_count": 9,
   "metadata": {},
   "outputs": [],
   "source": [
    "def process_timeuuid(df):\n",
    "    spark_time = df.select('create_time').collect()\n",
    "    normal_time = []\n",
    "    for i in range(len(spark_time)):\n",
    "        a = time_uuid.TimeUUID(bytes = UUID(spark_time[i][0]).bytes).get_datetime().strftime('%Y-%m-%d %H:%M:%S')\n",
    "        normal_time.append(a)\n",
    "    spark_timeuuid = []\n",
    "    for i in range(len(spark_time)):\n",
    "        spark_timeuuid.append(spark_time[i][0])\n",
    "    time_data = spark.createDataFrame(zip(spark_timeuuid,normal_time),['create_time','ts'])\n",
    "    result = df.join(time_data,['create_time'],'inner').drop(df.ts)\n",
    "    result = result.select('create_time','ts','bid','job_id','campaign_id','custom_track','group_id','publisher_id')\n",
    "    return result"
   ]
  },
  {
   "cell_type": "code",
   "execution_count": 10,
   "metadata": {},
   "outputs": [],
   "source": [
    "process_df=process_timeuuid(df)"
   ]
  },
  {
   "cell_type": "code",
   "execution_count": 11,
   "metadata": {},
   "outputs": [
    {
     "name": "stdout",
     "output_type": "stream",
     "text": [
      "+--------------------+-------------------+----+------+-----------+------------+--------+------------+\n",
      "|         create_time|                 ts| bid|job_id|campaign_id|custom_track|group_id|publisher_id|\n",
      "+--------------------+-------------------+----+------+-----------+------------+--------+------------+\n",
      "|3f796600-0bff-11e...|2022-07-25 09:50:42|   0|  1533|        222|        null|    null|           1|\n",
      "|b9c95960-0bff-11e...|2022-07-25 09:54:07|   0|  1531|        222|        null|    null|           1|\n",
      "|b70e2aa0-0986-11e...|2022-07-22 06:22:51|null|  null|       null|        null|    null|        null|\n",
      "|cb3ade10-018e-11e...|2022-07-12 03:00:32|null|  null|       null|       click|    null|        null|\n",
      "|e1a01b60-0847-11e...|2022-07-20 16:20:33|null|  null|       null|       click|    null|        null|\n",
      "|f7963ac0-0d61-11e...|2022-07-27 04:09:53|   0|  1103|        151|       click|      28|           1|\n",
      "|0c7babc0-fda7-11e...|2022-07-07 03:44:05|   0|   187|         48|       click|    null|           1|\n",
      "|59cd09f0-0793-11e...|2022-07-19 18:48:16|null|  null|       null|        null|    null|        null|\n",
      "|e0c54100-00ce-11e...|2022-07-11 04:06:45|null|  null|       null|        null|    null|        null|\n",
      "|34c02ee0-00ee-11e...|2022-07-11 07:51:00|null|  null|       null|        null|    null|        null|\n",
      "|ba5be830-0d7a-11e...|2022-07-27 07:07:08|null|  null|       null|        null|    null|        null|\n",
      "|b12df000-0d61-11e...|2022-07-27 04:07:55|   2|    98|          4|       click|    null|           1|\n",
      "|8ce37380-0caf-11e...|2022-07-26 06:52:44|   2|    98|          4|       click|    null|           1|\n",
      "|9e13bdb0-05a5-11e...|2022-07-17 07:53:59|null|  null|       null|        null|    null|        null|\n",
      "|ea00e570-0b06-11e...|2022-07-24 04:13:04|null|  null|       null|        null|    null|        null|\n",
      "|ef7b4f60-02b7-11e...|2022-07-13 14:27:33|null|  null|       null|        null|    null|        null|\n",
      "|3eec0650-00cb-11e...|2022-07-11 03:40:45|null|  null|       null|        null|    null|        null|\n",
      "|bb273ed0-0cc7-11e...|2022-07-26 09:45:49|null|  null|       null|        null|    null|        null|\n",
      "|bc1f7ce0-fea2-11e...|2022-07-08 09:45:43|   2|    98|          4|        null|    null|           1|\n",
      "|c020a4b0-fea0-11e...|2022-07-08 09:31:31|   2|    98|          4|       click|    null|           1|\n",
      "+--------------------+-------------------+----+------+-----------+------------+--------+------------+\n",
      "only showing top 20 rows\n",
      "\n"
     ]
    }
   ],
   "source": [
    "process_df.show()"
   ]
  },
  {
   "cell_type": "code",
   "execution_count": 12,
   "metadata": {},
   "outputs": [
    {
     "data": {
      "text/plain": [
       "DataFrame[create_time: string, ts: string, bid: int, job_id: int, campaign_id: int, custom_track: string, group_id: int, publisher_id: int]"
      ]
     },
     "execution_count": 12,
     "metadata": {},
     "output_type": "execute_result"
    }
   ],
   "source": [
    "process_df.cache()"
   ]
  },
  {
   "cell_type": "code",
   "execution_count": 15,
   "metadata": {},
   "outputs": [],
   "source": [
    "click_data = process_df.filter(process_df.custom_track == 'click')"
   ]
  },
  {
   "cell_type": "code",
   "execution_count": 16,
   "metadata": {},
   "outputs": [
    {
     "name": "stdout",
     "output_type": "stream",
     "text": [
      "+--------------------+-------------------+----+------+-----------+------------+--------+------------+\n",
      "|         create_time|                 ts| bid|job_id|campaign_id|custom_track|group_id|publisher_id|\n",
      "+--------------------+-------------------+----+------+-----------+------------+--------+------------+\n",
      "|4e51fdb0-089c-11e...|2022-07-21 02:24:54|null|  null|       null|       click|    null|        null|\n",
      "|5a374880-0b38-11e...|2022-07-24 10:06:57|   1|   188|         48|       click|      34|           1|\n",
      "|6140b730-0668-11e...|2022-07-18 07:08:09|null|  null|       null|       click|    null|        null|\n",
      "|95b48750-0193-11e...|2022-07-12 03:34:50|null|  null|       null|       click|    null|        null|\n",
      "|a49e3a10-0975-11e...|2022-07-22 04:20:39|null|  null|       null|       click|    null|        null|\n",
      "|bbab1a50-018e-11e...|2022-07-12 03:00:06|null|  null|       null|       click|    null|        null|\n",
      "|bc3af1b0-0b67-11e...|2022-07-24 15:46:08|null|  null|       null|       click|    null|        null|\n",
      "|be352470-0cae-11e...|2022-07-26 06:46:57|   1|   258|         93|       click|    null|           1|\n",
      "|cb3ade10-018e-11e...|2022-07-12 03:00:32|null|  null|       null|       click|    null|        null|\n",
      "|ebbecd00-018d-11e...|2022-07-12 02:54:17|null|  null|       null|       click|    null|        null|\n",
      "|0c7babc0-fda7-11e...|2022-07-07 03:44:05|   0|   187|         48|       click|    null|           1|\n",
      "|1e87dda0-0bff-11e...|2022-07-25 09:49:47|   0|  1534|        222|       click|    null|           1|\n",
      "|7abb8390-0189-11e...|2022-07-12 02:22:29|null|  null|       null|       click|    null|        null|\n",
      "|7fee53d0-0a6a-11e...|2022-07-23 09:33:24|null|  null|       null|       click|    null|        null|\n",
      "|83167df0-00ea-11e...|2022-07-11 07:24:33|null|  null|       null|       click|    null|        null|\n",
      "|8ce37380-0caf-11e...|2022-07-26 06:52:44|   2|    98|          4|       click|    null|           1|\n",
      "|9ecc6690-099b-11e...|2022-07-22 08:52:30|null|  null|       null|       click|    null|        null|\n",
      "|b12df000-0d61-11e...|2022-07-27 04:07:55|   2|    98|          4|       click|    null|           1|\n",
      "|e1a01b60-0847-11e...|2022-07-20 16:20:33|null|  null|       null|       click|    null|        null|\n",
      "|f7963ac0-0d61-11e...|2022-07-27 04:09:53|   0|  1103|        151|       click|      28|           1|\n",
      "+--------------------+-------------------+----+------+-----------+------------+--------+------------+\n",
      "only showing top 20 rows\n",
      "\n"
     ]
    }
   ],
   "source": [
    "click_data.show()"
   ]
  },
  {
   "cell_type": "code",
   "execution_count": 23,
   "metadata": {},
   "outputs": [
    {
     "ename": "ConnectionRefusedError",
     "evalue": "[WinError 10061] No connection could be made because the target machine actively refused it",
     "output_type": "error",
     "traceback": [
      "\u001b[1;31m---------------------------------------------------------------------------\u001b[0m",
      "\u001b[1;31mConnectionRefusedError\u001b[0m                    Traceback (most recent call last)",
      "Cell \u001b[1;32mIn[23], line 1\u001b[0m\n\u001b[1;32m----> 1\u001b[0m click_data \u001b[38;5;241m=\u001b[39m \u001b[43mclick_data\u001b[49m\u001b[38;5;241;43m.\u001b[39;49m\u001b[43mna\u001b[49m\u001b[38;5;241;43m.\u001b[39;49m\u001b[43mfill\u001b[49m\u001b[43m(\u001b[49m\u001b[43m{\u001b[49m\u001b[38;5;124;43m'\u001b[39;49m\u001b[38;5;124;43mbid\u001b[39;49m\u001b[38;5;124;43m'\u001b[39;49m\u001b[43m:\u001b[49m\u001b[38;5;241;43m0\u001b[39;49m\u001b[43m}\u001b[49m\u001b[43m)\u001b[49m\n\u001b[0;32m      2\u001b[0m click_data \u001b[38;5;241m=\u001b[39m click_data\u001b[38;5;241m.\u001b[39mna\u001b[38;5;241m.\u001b[39mfill({\u001b[38;5;124m'\u001b[39m\u001b[38;5;124mjob_id\u001b[39m\u001b[38;5;124m'\u001b[39m:\u001b[38;5;241m0\u001b[39m})\n\u001b[0;32m      3\u001b[0m click_data \u001b[38;5;241m=\u001b[39m click_data\u001b[38;5;241m.\u001b[39mna\u001b[38;5;241m.\u001b[39mfill({\u001b[38;5;124m'\u001b[39m\u001b[38;5;124mcampaign_id\u001b[39m\u001b[38;5;124m'\u001b[39m:\u001b[38;5;241m0\u001b[39m})\n",
      "File \u001b[1;32mC:\\spark\\python\\pyspark\\sql\\dataframe.py:2789\u001b[0m, in \u001b[0;36mDataFrameNaFunctions.fill\u001b[1;34m(self, value, subset)\u001b[0m\n\u001b[0;32m   2788\u001b[0m \u001b[38;5;28;01mdef\u001b[39;00m \u001b[38;5;21mfill\u001b[39m(\u001b[38;5;28mself\u001b[39m, value, subset\u001b[38;5;241m=\u001b[39m\u001b[38;5;28;01mNone\u001b[39;00m):\n\u001b[1;32m-> 2789\u001b[0m     \u001b[38;5;28;01mreturn\u001b[39;00m \u001b[38;5;28;43mself\u001b[39;49m\u001b[38;5;241;43m.\u001b[39;49m\u001b[43mdf\u001b[49m\u001b[38;5;241;43m.\u001b[39;49m\u001b[43mfillna\u001b[49m\u001b[43m(\u001b[49m\u001b[43mvalue\u001b[49m\u001b[38;5;241;43m=\u001b[39;49m\u001b[43mvalue\u001b[49m\u001b[43m,\u001b[49m\u001b[43m \u001b[49m\u001b[43msubset\u001b[49m\u001b[38;5;241;43m=\u001b[39;49m\u001b[43msubset\u001b[49m\u001b[43m)\u001b[49m\n",
      "File \u001b[1;32mC:\\spark\\python\\pyspark\\sql\\dataframe.py:2097\u001b[0m, in \u001b[0;36mDataFrame.fillna\u001b[1;34m(self, value, subset)\u001b[0m\n\u001b[0;32m   2094\u001b[0m     value \u001b[38;5;241m=\u001b[39m \u001b[38;5;28mfloat\u001b[39m(value)\n\u001b[0;32m   2096\u001b[0m \u001b[38;5;28;01mif\u001b[39;00m \u001b[38;5;28misinstance\u001b[39m(value, \u001b[38;5;28mdict\u001b[39m):\n\u001b[1;32m-> 2097\u001b[0m     \u001b[38;5;28;01mreturn\u001b[39;00m DataFrame(\u001b[38;5;28;43mself\u001b[39;49m\u001b[38;5;241;43m.\u001b[39;49m\u001b[43m_jdf\u001b[49m\u001b[38;5;241;43m.\u001b[39;49m\u001b[43mna\u001b[49m\u001b[43m(\u001b[49m\u001b[43m)\u001b[49m\u001b[38;5;241m.\u001b[39mfill(value), \u001b[38;5;28mself\u001b[39m\u001b[38;5;241m.\u001b[39msql_ctx)\n\u001b[0;32m   2098\u001b[0m \u001b[38;5;28;01melif\u001b[39;00m subset \u001b[38;5;129;01mis\u001b[39;00m \u001b[38;5;28;01mNone\u001b[39;00m:\n\u001b[0;32m   2099\u001b[0m     \u001b[38;5;28;01mreturn\u001b[39;00m DataFrame(\u001b[38;5;28mself\u001b[39m\u001b[38;5;241m.\u001b[39m_jdf\u001b[38;5;241m.\u001b[39mna()\u001b[38;5;241m.\u001b[39mfill(value), \u001b[38;5;28mself\u001b[39m\u001b[38;5;241m.\u001b[39msql_ctx)\n",
      "File \u001b[1;32mC:\\spark\\python\\lib\\py4j-0.10.9.5-src.zip\\py4j\\java_gateway.py:1320\u001b[0m, in \u001b[0;36mJavaMember.__call__\u001b[1;34m(self, *args)\u001b[0m\n\u001b[0;32m   1313\u001b[0m args_command, temp_args \u001b[38;5;241m=\u001b[39m \u001b[38;5;28mself\u001b[39m\u001b[38;5;241m.\u001b[39m_build_args(\u001b[38;5;241m*\u001b[39margs)\n\u001b[0;32m   1315\u001b[0m command \u001b[38;5;241m=\u001b[39m proto\u001b[38;5;241m.\u001b[39mCALL_COMMAND_NAME \u001b[38;5;241m+\u001b[39m\\\n\u001b[0;32m   1316\u001b[0m     \u001b[38;5;28mself\u001b[39m\u001b[38;5;241m.\u001b[39mcommand_header \u001b[38;5;241m+\u001b[39m\\\n\u001b[0;32m   1317\u001b[0m     args_command \u001b[38;5;241m+\u001b[39m\\\n\u001b[0;32m   1318\u001b[0m     proto\u001b[38;5;241m.\u001b[39mEND_COMMAND_PART\n\u001b[1;32m-> 1320\u001b[0m answer \u001b[38;5;241m=\u001b[39m \u001b[38;5;28;43mself\u001b[39;49m\u001b[38;5;241;43m.\u001b[39;49m\u001b[43mgateway_client\u001b[49m\u001b[38;5;241;43m.\u001b[39;49m\u001b[43msend_command\u001b[49m\u001b[43m(\u001b[49m\u001b[43mcommand\u001b[49m\u001b[43m)\u001b[49m\n\u001b[0;32m   1321\u001b[0m return_value \u001b[38;5;241m=\u001b[39m get_return_value(\n\u001b[0;32m   1322\u001b[0m     answer, \u001b[38;5;28mself\u001b[39m\u001b[38;5;241m.\u001b[39mgateway_client, \u001b[38;5;28mself\u001b[39m\u001b[38;5;241m.\u001b[39mtarget_id, \u001b[38;5;28mself\u001b[39m\u001b[38;5;241m.\u001b[39mname)\n\u001b[0;32m   1324\u001b[0m \u001b[38;5;28;01mfor\u001b[39;00m temp_arg \u001b[38;5;129;01min\u001b[39;00m temp_args:\n",
      "File \u001b[1;32mC:\\spark\\python\\lib\\py4j-0.10.9.5-src.zip\\py4j\\java_gateway.py:1036\u001b[0m, in \u001b[0;36mGatewayClient.send_command\u001b[1;34m(self, command, retry, binary)\u001b[0m\n\u001b[0;32m   1015\u001b[0m \u001b[38;5;28;01mdef\u001b[39;00m \u001b[38;5;21msend_command\u001b[39m(\u001b[38;5;28mself\u001b[39m, command, retry\u001b[38;5;241m=\u001b[39m\u001b[38;5;28;01mTrue\u001b[39;00m, binary\u001b[38;5;241m=\u001b[39m\u001b[38;5;28;01mFalse\u001b[39;00m):\n\u001b[0;32m   1016\u001b[0m     \u001b[38;5;124;03m\"\"\"Sends a command to the JVM. This method is not intended to be\u001b[39;00m\n\u001b[0;32m   1017\u001b[0m \u001b[38;5;124;03m       called directly by Py4J users. It is usually called by\u001b[39;00m\n\u001b[0;32m   1018\u001b[0m \u001b[38;5;124;03m       :class:`JavaMember` instances.\u001b[39;00m\n\u001b[1;32m   (...)\u001b[0m\n\u001b[0;32m   1034\u001b[0m \u001b[38;5;124;03m     if `binary` is `True`.\u001b[39;00m\n\u001b[0;32m   1035\u001b[0m \u001b[38;5;124;03m    \"\"\"\u001b[39;00m\n\u001b[1;32m-> 1036\u001b[0m     connection \u001b[38;5;241m=\u001b[39m \u001b[38;5;28;43mself\u001b[39;49m\u001b[38;5;241;43m.\u001b[39;49m\u001b[43m_get_connection\u001b[49m\u001b[43m(\u001b[49m\u001b[43m)\u001b[49m\n\u001b[0;32m   1037\u001b[0m     \u001b[38;5;28;01mtry\u001b[39;00m:\n\u001b[0;32m   1038\u001b[0m         response \u001b[38;5;241m=\u001b[39m connection\u001b[38;5;241m.\u001b[39msend_command(command)\n",
      "File \u001b[1;32mC:\\spark\\python\\lib\\py4j-0.10.9.5-src.zip\\py4j\\clientserver.py:284\u001b[0m, in \u001b[0;36mJavaClient._get_connection\u001b[1;34m(self)\u001b[0m\n\u001b[0;32m    281\u001b[0m     \u001b[38;5;28;01mpass\u001b[39;00m\n\u001b[0;32m    283\u001b[0m \u001b[38;5;28;01mif\u001b[39;00m connection \u001b[38;5;129;01mis\u001b[39;00m \u001b[38;5;28;01mNone\u001b[39;00m \u001b[38;5;129;01mor\u001b[39;00m connection\u001b[38;5;241m.\u001b[39msocket \u001b[38;5;129;01mis\u001b[39;00m \u001b[38;5;28;01mNone\u001b[39;00m:\n\u001b[1;32m--> 284\u001b[0m     connection \u001b[38;5;241m=\u001b[39m \u001b[38;5;28;43mself\u001b[39;49m\u001b[38;5;241;43m.\u001b[39;49m\u001b[43m_create_new_connection\u001b[49m\u001b[43m(\u001b[49m\u001b[43m)\u001b[49m\n\u001b[0;32m    285\u001b[0m \u001b[38;5;28;01mreturn\u001b[39;00m connection\n",
      "File \u001b[1;32mC:\\spark\\python\\lib\\py4j-0.10.9.5-src.zip\\py4j\\clientserver.py:291\u001b[0m, in \u001b[0;36mJavaClient._create_new_connection\u001b[1;34m(self)\u001b[0m\n\u001b[0;32m    287\u001b[0m \u001b[38;5;28;01mdef\u001b[39;00m \u001b[38;5;21m_create_new_connection\u001b[39m(\u001b[38;5;28mself\u001b[39m):\n\u001b[0;32m    288\u001b[0m     connection \u001b[38;5;241m=\u001b[39m ClientServerConnection(\n\u001b[0;32m    289\u001b[0m         \u001b[38;5;28mself\u001b[39m\u001b[38;5;241m.\u001b[39mjava_parameters, \u001b[38;5;28mself\u001b[39m\u001b[38;5;241m.\u001b[39mpython_parameters,\n\u001b[0;32m    290\u001b[0m         \u001b[38;5;28mself\u001b[39m\u001b[38;5;241m.\u001b[39mgateway_property, \u001b[38;5;28mself\u001b[39m)\n\u001b[1;32m--> 291\u001b[0m     \u001b[43mconnection\u001b[49m\u001b[38;5;241;43m.\u001b[39;49m\u001b[43mconnect_to_java_server\u001b[49m\u001b[43m(\u001b[49m\u001b[43m)\u001b[49m\n\u001b[0;32m    292\u001b[0m     \u001b[38;5;28mself\u001b[39m\u001b[38;5;241m.\u001b[39mset_thread_connection(connection)\n\u001b[0;32m    293\u001b[0m     \u001b[38;5;28;01mreturn\u001b[39;00m connection\n",
      "File \u001b[1;32mC:\\spark\\python\\lib\\py4j-0.10.9.5-src.zip\\py4j\\clientserver.py:438\u001b[0m, in \u001b[0;36mClientServerConnection.connect_to_java_server\u001b[1;34m(self)\u001b[0m\n\u001b[0;32m    435\u001b[0m \u001b[38;5;28;01mif\u001b[39;00m \u001b[38;5;28mself\u001b[39m\u001b[38;5;241m.\u001b[39mssl_context:\n\u001b[0;32m    436\u001b[0m     \u001b[38;5;28mself\u001b[39m\u001b[38;5;241m.\u001b[39msocket \u001b[38;5;241m=\u001b[39m \u001b[38;5;28mself\u001b[39m\u001b[38;5;241m.\u001b[39mssl_context\u001b[38;5;241m.\u001b[39mwrap_socket(\n\u001b[0;32m    437\u001b[0m         \u001b[38;5;28mself\u001b[39m\u001b[38;5;241m.\u001b[39msocket, server_hostname\u001b[38;5;241m=\u001b[39m\u001b[38;5;28mself\u001b[39m\u001b[38;5;241m.\u001b[39mjava_address)\n\u001b[1;32m--> 438\u001b[0m \u001b[38;5;28;43mself\u001b[39;49m\u001b[38;5;241;43m.\u001b[39;49m\u001b[43msocket\u001b[49m\u001b[38;5;241;43m.\u001b[39;49m\u001b[43mconnect\u001b[49m\u001b[43m(\u001b[49m\u001b[43m(\u001b[49m\u001b[38;5;28;43mself\u001b[39;49m\u001b[38;5;241;43m.\u001b[39;49m\u001b[43mjava_address\u001b[49m\u001b[43m,\u001b[49m\u001b[43m \u001b[49m\u001b[38;5;28;43mself\u001b[39;49m\u001b[38;5;241;43m.\u001b[39;49m\u001b[43mjava_port\u001b[49m\u001b[43m)\u001b[49m\u001b[43m)\u001b[49m\n\u001b[0;32m    439\u001b[0m \u001b[38;5;28mself\u001b[39m\u001b[38;5;241m.\u001b[39mstream \u001b[38;5;241m=\u001b[39m \u001b[38;5;28mself\u001b[39m\u001b[38;5;241m.\u001b[39msocket\u001b[38;5;241m.\u001b[39mmakefile(\u001b[38;5;124m\"\u001b[39m\u001b[38;5;124mrb\u001b[39m\u001b[38;5;124m\"\u001b[39m)\n\u001b[0;32m    440\u001b[0m \u001b[38;5;28mself\u001b[39m\u001b[38;5;241m.\u001b[39mis_connected \u001b[38;5;241m=\u001b[39m \u001b[38;5;28;01mTrue\u001b[39;00m\n",
      "\u001b[1;31mConnectionRefusedError\u001b[0m: [WinError 10061] No connection could be made because the target machine actively refused it"
     ]
    }
   ],
   "source": [
    "click_data = click_data.na.fill({'bid':0})\n",
    "click_data = click_data.na.fill({'job_id':0})\n",
    "click_data = click_data.na.fill({'campaign_id':0})\n",
    "click_data = click_data.na.fill({'group_id':0})\n",
    "click_data = click_data.na.fill({'publisher_id':0})"
   ]
  },
  {
   "cell_type": "code",
   "execution_count": null,
   "metadata": {},
   "outputs": [],
   "source": []
  }
 ],
 "metadata": {
  "kernelspec": {
   "display_name": "Python 3 (ipykernel)",
   "language": "python",
   "name": "python3"
  },
  "language_info": {
   "codemirror_mode": {
    "name": "ipython",
    "version": 3
   },
   "file_extension": ".py",
   "mimetype": "text/x-python",
   "name": "python",
   "nbconvert_exporter": "python",
   "pygments_lexer": "ipython3",
   "version": "3.10.9"
  }
 },
 "nbformat": 4,
 "nbformat_minor": 4
}
