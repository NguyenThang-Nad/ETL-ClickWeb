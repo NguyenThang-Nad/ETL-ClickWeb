{
 "cells": [
  {
   "cell_type": "code",
   "execution_count": 1,
   "metadata": {},
   "outputs": [],
   "source": [
    "import findspark\n",
    "findspark.init()\n",
    "import os\n",
    "import time\n",
    "import datetime\n",
    "import pyspark.sql.functions as sf\n",
    "from uuid import *\n",
    "from pyspark.sql import SparkSession\n",
    "from pyspark.sql import SQLContext\n",
    "from pyspark.sql.functions import when\n",
    "from pyspark.sql.functions import col\n",
    "from pyspark.sql.types import *\n",
    "from pyspark.sql.functions import lit\n",
    "from pyspark import SparkConf, SparkContext\n",
    "from uuid import * \n",
    "from uuid import UUID\n",
    "import time_uuid \n",
    "from pyspark.sql import Row\n",
    "from pyspark.sql.functions import udf\n",
    "from pyspark.sql.functions import monotonically_increasing_id\n",
    "from pyspark.sql.window import Window as W"
   ]
  },
  {
   "cell_type": "code",
   "execution_count": 2,
   "metadata": {},
   "outputs": [],
   "source": [
    "os.environ['PYSPARK_PYTHON'] = sys.executable\n",
    "os.environ['PYSPARK_DRIVER_PYTHON'] = sys.executable"
   ]
  },
  {
   "cell_type": "code",
   "execution_count": 3,
   "metadata": {},
   "outputs": [],
   "source": [
    "spark = SparkSession.builder.config(\"spark.jars.packages\",'com.datastax.spark:spark-cassandra-connector_2.12:3.1.0').getOrCreate()"
   ]
  },
  {
   "cell_type": "code",
   "execution_count": 4,
   "metadata": {},
   "outputs": [],
   "source": [
    "df = spark.read.format(\"org.apache.spark.sql.cassandra\").options(table='tracking',keyspace='mydata').load()"
   ]
  },
  {
   "cell_type": "code",
   "execution_count": 5,
   "metadata": {},
   "outputs": [
    {
     "name": "stdout",
     "output_type": "stream",
     "text": [
      "+--------------------+----+----------+-----------+---+------------+-----+--------------------+---------------+--------------------+---+--------+----+------+----+------------+--------------------+---------+--------------------+----+--------------------+-------------------+------------+-----------+----------+----------+--------+---+--------+\n",
      "|         create_time| bid|        bn|campaign_id| cd|custom_track|   de|                  dl|             dt|                  ed| ev|group_id|  id|job_id|  md|publisher_id|                  rl|       sr|                  ts|  tz|                  ua|                uid|utm_campaign|utm_content|utm_medium|utm_source|utm_term|  v|      vp|\n",
      "+--------------------+----+----------+-----------+---+------------+-----+--------------------+---------------+--------------------+---+--------+----+------+----+------------+--------------------+---------+--------------------+----+--------------------+-------------------+------------+-----------+----------+----------+--------+---+--------+\n",
      "|a3411b10-0975-11e...|null|Chrome 102|       null| 24|       click|UTF-8|http://localhost:...|CandidatePortal|{\"customEvent\":\"c...|  2|    null|null|  null|true|        null|http://localhost:...|1920x1080|2022-07-22 04:20:...|-420|Mozilla/5.0 (Maci...|1-ok78d38x-l5j7ka8p|        null|       null|      null|      null|    null|  1|1920x976|\n",
      "|28456e30-0a00-11e...|null|Chrome 102|       null| 24|        null|UTF-8|http://localhost:...|CandidatePortal|                null|  1|    null|null|  null|true|        null|http://localhost:...|1920x1080|2022-07-22 20:52:...|-420|Mozilla/5.0 (Maci...|1-ok78d38x-l5j7ka8p|        null|       null|      null|      null|    null|  1|1181x976|\n",
      "|825b7a90-096a-11e...|null|Chrome 103|       null| 24|        null|UTF-8|http://localhost:...|CandidatePortal|                null|  1|    null|null|  null|true|        null|                null|1920x1080|2022-07-22 03:00:...|-420|Mozilla/5.0 (Maci...|1-9tivgsfi-l4rae1qy|        null|       null|      null|      null|    null|  1|1920x944|\n",
      "|b90c7670-0b59-11e...|   1|Chrome 103|         48| 24|       click|UTF-8|http://fe.dev.got...|CandidatePortal|{\"customEvent\":\"c...|  2|      34|null|   188|true|           1|                null| 1366x768|2022-07-24 14:05:...|-420|Mozilla/5.0 (Wind...|1-zof0i457-l5ze6uuv|        null|       null|      null|      null|    null|  1|1366x625|\n",
      "|c8120330-00f3-11e...|null|Chrome 103|       null| 24|        null|UTF-8|http://localhost:...|CandidatePortal|                null|  1|    null|null|  null|true|        null|http://localhost:...|1920x1080|2022-07-11 08:30:...|-420|Mozilla/5.0 (Maci...|1-9tivgsfi-l4rae1qy|        null|       null|      null|      null|    null|  1|1858x944|\n",
      "+--------------------+----+----------+-----------+---+------------+-----+--------------------+---------------+--------------------+---+--------+----+------+----+------------+--------------------+---------+--------------------+----+--------------------+-------------------+------------+-----------+----------+----------+--------+---+--------+\n",
      "only showing top 5 rows\n",
      "\n",
      "6662\n"
     ]
    }
   ],
   "source": [
    "df.show(5)\n",
    "print(df.count())"
   ]
  },
  {
   "cell_type": "code",
   "execution_count": 6,
   "metadata": {},
   "outputs": [],
   "source": [
    "def process_timeuuid(df):\n",
    "    spark_time = df.select('create_time').collect()\n",
    "    normal_time = []\n",
    "    for i in range(len(spark_time)):\n",
    "        a = time_uuid.TimeUUID(bytes = UUID(spark_time[i][0]).bytes).get_datetime().strftime('%Y-%m-%d %H:%M:%S')\n",
    "        normal_time.append(a)\n",
    "    spark_timeuuid = []\n",
    "    for i in range(len(spark_time)):\n",
    "        spark_timeuuid.append(spark_time[i][0])\n",
    "    time_data = spark.createDataFrame(zip(spark_timeuuid,normal_time),['create_time','ts'])\n",
    "    result = df.join(time_data,['create_time'],'inner').drop(df.ts)\n",
    "    result = result.select('create_time','ts','bid','job_id','campaign_id','custom_track','group_id','publisher_id')\n",
    "    return result"
   ]
  },
  {
   "cell_type": "code",
   "execution_count": 7,
   "metadata": {},
   "outputs": [],
   "source": [
    "process_df=process_timeuuid(df)"
   ]
  },
  {
   "cell_type": "code",
   "execution_count": 8,
   "metadata": {},
   "outputs": [
    {
     "name": "stdout",
     "output_type": "stream",
     "text": [
      "+--------------------+-------------------+----+------+-----------+------------+--------+------------+\n",
      "|         create_time|                 ts| bid|job_id|campaign_id|custom_track|group_id|publisher_id|\n",
      "+--------------------+-------------------+----+------+-----------+------------+--------+------------+\n",
      "|c3db7990-0260-11e...|2022-07-13 04:03:34|null|  null|       null|        null|    null|        null|\n",
      "|5ffc48f0-0189-11e...|2022-07-12 02:21:45|null|  null|       null|       click|    null|        null|\n",
      "|28ec5a80-fea5-11e...|2022-07-08 10:03:05|null|  null|       null|       click|    null|        null|\n",
      "|a44487f0-08de-11e...|2022-07-21 10:19:45|null|  null|       null|        null|    null|        null|\n",
      "|4ea14ac0-0c00-11e...|2022-07-25 09:58:17|   0|  1527|        222|        null|    null|           1|\n",
      "|e0d81db0-0bfb-11e...|2022-07-25 09:26:35|   1|   188|         48|       click|      34|           1|\n",
      "|40089000-0975-11e...|2022-07-22 04:17:50|null|  null|       null|       click|    null|        null|\n",
      "|fe6fb850-0c8d-11e...|2022-07-26 02:52:31|   0|  1527|        222|        null|    null|           1|\n",
      "|beaaf810-0076-11e...|2022-07-10 17:35:52|null|  null|       null|       click|    null|        null|\n",
      "|d3d587b0-0caf-11e...|2022-07-26 06:54:43|   0|   273|         48|        null|    null|           1|\n",
      "|da07f970-08b2-11e...|2022-07-21 05:06:17|null|  null|       null|       click|    null|        null|\n",
      "|bd9fdbd0-0999-11e...|2022-07-22 08:39:03|null|  null|       null|        null|    null|        null|\n",
      "|684da060-0d61-11e...|2022-07-27 04:05:53|   1|   336|         15|       click|    null|           1|\n",
      "|5d0082b0-0c8d-11e...|2022-07-26 02:48:00|   2|    98|          4|        null|    null|           1|\n",
      "|ce74c090-0284-11e...|2022-07-13 08:21:34|null|  null|       null|       click|    null|        null|\n",
      "|7a461db0-09a6-11e...|2022-07-22 10:10:13|null|  null|       null|        null|    null|        null|\n",
      "|43d5fba0-0bfa-11e...|2022-07-25 09:15:02|null|  null|       null|        null|    null|        null|\n",
      "|3e5debc0-084d-11e...|2022-07-20 16:58:57|null|  null|       null|        null|    null|        null|\n",
      "|3370fbb0-0b38-11e...|2022-07-24 10:05:52|   1|   188|         48|       click|      34|           1|\n",
      "|eb2f6cb0-0cae-11e...|2022-07-26 06:48:12|null|  null|       null|       alive|    null|        null|\n",
      "+--------------------+-------------------+----+------+-----------+------------+--------+------------+\n",
      "only showing top 20 rows\n",
      "\n"
     ]
    }
   ],
   "source": [
    "process_df.show()"
   ]
  },
  {
   "cell_type": "code",
   "execution_count": null,
   "metadata": {},
   "outputs": [],
   "source": []
  }
 ],
 "metadata": {
  "kernelspec": {
   "display_name": "Python 3 (ipykernel)",
   "language": "python",
   "name": "python3"
  },
  "language_info": {
   "codemirror_mode": {
    "name": "ipython",
    "version": 3
   },
   "file_extension": ".py",
   "mimetype": "text/x-python",
   "name": "python",
   "nbconvert_exporter": "python",
   "pygments_lexer": "ipython3",
   "version": "3.10.9"
  }
 },
 "nbformat": 4,
 "nbformat_minor": 4
}
