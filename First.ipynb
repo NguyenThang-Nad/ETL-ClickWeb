{
 "cells": [
  {
   "cell_type": "code",
   "execution_count": 1,
   "metadata": {},
   "outputs": [],
   "source": [
    "import findspark\n",
    "findspark.init()\n",
    "import os\n",
    "import time\n",
    "import datetime\n",
    "import pyspark.sql.functions as sf\n",
    "from uuid import *\n",
    "from pyspark.sql import SparkSession\n",
    "from pyspark.sql import SQLContext\n",
    "from pyspark.sql.functions import when\n",
    "from pyspark.sql.functions import col\n",
    "from pyspark.sql.types import *\n",
    "from pyspark.sql.functions import lit\n",
    "from pyspark import SparkConf, SparkContext\n",
    "from uuid import * \n",
    "from uuid import UUID\n",
    "import time_uuid \n",
    "from pyspark.sql import Row\n",
    "from pyspark.sql.functions import udf\n",
    "from pyspark.sql.functions import monotonically_increasing_id\n",
    "from pyspark.sql.window import Window as W"
   ]
  },
  {
   "cell_type": "code",
   "execution_count": 2,
   "metadata": {},
   "outputs": [],
   "source": [
    "os.environ['PYSPARK_PYTHON'] = sys.executable\n",
    "os.environ['PYSPARK_DRIVER_PYTHON'] = sys.executable"
   ]
  },
  {
   "cell_type": "code",
   "execution_count": 3,
   "metadata": {},
   "outputs": [],
   "source": [
    "spark = SparkSession.builder.config(\"spark.jars.packages\",'com.datastax.spark:spark-cassandra-connector_2.12:3.1.0').getOrCreate()"
   ]
  },
  {
   "cell_type": "code",
   "execution_count": 4,
   "metadata": {},
   "outputs": [],
   "source": [
    "df = spark.read.format(\"org.apache.spark.sql.cassandra\").options(table='tracking',keyspace='mydata').load()"
   ]
  },
  {
   "cell_type": "code",
   "execution_count": 5,
   "metadata": {},
   "outputs": [
    {
     "name": "stdout",
     "output_type": "stream",
     "text": [
      "+--------------------+----+----------+-----------+---+------------+-----+--------------------+---------------+--------------------+---+--------+----+------+----+------------+--------------------+---------+--------------------+----+--------------------+-------------------+------------+-----------+----------+----------+--------+---+--------+\n",
      "|         create_time| bid|        bn|campaign_id| cd|custom_track|   de|                  dl|             dt|                  ed| ev|group_id|  id|job_id|  md|publisher_id|                  rl|       sr|                  ts|  tz|                  ua|                uid|utm_campaign|utm_content|utm_medium|utm_source|utm_term|  v|      vp|\n",
      "+--------------------+----+----------+-----------+---+------------+-----+--------------------+---------------+--------------------+---+--------+----+------+----+------------+--------------------+---------+--------------------+----+--------------------+-------------------+------------+-----------+----------+----------+--------+---+--------+\n",
      "|5a255270-0209-11e...|null| Chrome 96|       null| 24|  conversion|UTF-8|http://150.136.2....|CandidatePortal|{\"customEvent\":\"c...|  2|    null|null|  null|true|        null|                null|1920x1080|2022-07-12 17:37:...|-420|Mozilla/5.0 (X11;...|1-o23lt45w-l516d965|        null|       null|      null|      null|    null|  1|1920x919|\n",
      "|1500baa0-0901-11e...|null|Chrome 103|       null| 24|        null|UTF-8|http://129.213.68...|CandidatePortal|                null|  1|    null|null|  null|true|        null|                null|1920x1080|2022-07-21 14:26:...| 240|Mozilla/5.0 (Wind...|1-eb7odtp7-l4o6dg83|        null|       null|      null|      null|    null|  1|1920x961|\n",
      "|d4878700-0b59-11e...|   1|Chrome 103|         48| 24|       click|UTF-8|http://fe.dev.got...|CandidatePortal|{\"customEvent\":\"c...|  2|      34|null|   188|true|           1|                null| 1366x768|2022-07-24 14:06:...|-420|Mozilla/5.0 (Wind...|1-zof0i457-l5ze6uuv|        null|       null|      null|      null|    null|  1|1366x625|\n",
      "|006cbc10-0744-11e...|null|Chrome 102|       null| 24|        null|UTF-8|http://localhost:...|CandidatePortal|                null|  1|    null|null|  null|true|        null|http://localhost:...|1920x1080|2022-07-19 09:20:...|-420|Mozilla/5.0 (Maci...|1-ok78d38x-l5j7ka8p|        null|       null|      null|      null|    null|  1|1391x976|\n",
      "|7995e080-0735-11e...|null|Chrome 103|       null| 24|        null|UTF-8|http://150.230.18...|CandidatePortal|                null|  1|    null|null|  null|true|        null|                null| 1536x864|2022-07-19 07:36:...|-420|Mozilla/5.0 (Wind...|1-p23ywm7j-l4wezf4t|        null|       null|      null|      null|    null|  1|1536x722|\n",
      "+--------------------+----+----------+-----------+---+------------+-----+--------------------+---------------+--------------------+---+--------+----+------+----+------------+--------------------+---------+--------------------+----+--------------------+-------------------+------------+-----------+----------+----------+--------+---+--------+\n",
      "only showing top 5 rows\n",
      "\n",
      "6662\n"
     ]
    }
   ],
   "source": [
    "df.show(5)\n",
    "print(df.count())"
   ]
  },
  {
   "cell_type": "code",
   "execution_count": 6,
   "metadata": {},
   "outputs": [],
   "source": [
    "def process_timeuuid(df):\n",
    "    spark_time = df.select('create_time').collect()\n",
    "    normal_time = []\n",
    "    for i in range(len(spark_time)):\n",
    "        a = time_uuid.TimeUUID(bytes = UUID(spark_time[i][0]).bytes).get_datetime().strftime('%Y-%m-%d %H:%M:%S')\n",
    "        normal_time.append(a)\n",
    "    spark_timeuuid = []\n",
    "    for i in range(len(spark_time)):\n",
    "        spark_timeuuid.append(spark_time[i][0])\n",
    "    time_data = spark.createDataFrame(zip(spark_timeuuid,normal_time),['create_time','ts'])\n",
    "    result = df.join(time_data,['create_time'],'inner').drop(df.ts)\n",
    "    result = result.select('create_time','ts','bid','job_id','campaign_id','custom_track','group_id','publisher_id')\n",
    "    return result"
   ]
  },
  {
   "cell_type": "code",
   "execution_count": 7,
   "metadata": {},
   "outputs": [],
   "source": [
    "process_df=process_timeuuid(df)"
   ]
  },
  {
   "cell_type": "code",
   "execution_count": 8,
   "metadata": {},
   "outputs": [
    {
     "name": "stdout",
     "output_type": "stream",
     "text": [
      "+--------------------+-------------------+----+------+-----------+------------+--------+------------+\n",
      "|         create_time|                 ts| bid|job_id|campaign_id|custom_track|group_id|publisher_id|\n",
      "+--------------------+-------------------+----+------+-----------+------------+--------+------------+\n",
      "|e73f4180-08a2-11e...|2022-07-21 03:12:07|null|  null|       null|        null|    null|        null|\n",
      "|cd00c920-0c93-11e...|2022-07-26 03:34:05|null|  null|       null|       alive|    null|        null|\n",
      "|853fd7e0-0890-11e...|2022-07-21 01:00:32|null|  null|       null|        null|    null|        null|\n",
      "|8d5c0400-0d61-11e...|2022-07-27 04:06:55|   2|    98|          4|        null|    null|           1|\n",
      "|2bd39d80-08cd-11e...|2022-07-21 08:14:41|null|  null|       null|        null|    null|        null|\n",
      "|360f0f50-035a-11e...|2022-07-14 09:49:10|null|  null|       null|        null|    null|        null|\n",
      "|83167df0-00ea-11e...|2022-07-11 07:24:33|null|  null|       null|       click|    null|        null|\n",
      "|7fee53d0-0a6a-11e...|2022-07-23 09:33:24|null|  null|       null|       click|    null|        null|\n",
      "|71b22d90-0b38-11e...|2022-07-24 10:07:37|   1|   188|         48|        null|      34|           1|\n",
      "|577e3cd0-0191-11e...|2022-07-12 03:18:46|null|  null|       null|        null|    null|        null|\n",
      "|49bac740-0447-11e...|2022-07-15 14:06:14|null|  null|       null|        null|    null|        null|\n",
      "|89a9f3b0-0188-11e...|2022-07-12 02:15:45|null|  null|       null|        null|    null|        null|\n",
      "|350a1420-0075-11e...|2022-07-10 17:24:51|null|  null|       null|       click|    null|        null|\n",
      "|720b90c0-0bff-11e...|2022-07-25 09:52:07|   0|  1533|        222|       click|    null|           1|\n",
      "|85fb7f70-0cb1-11e...|2022-07-26 07:06:51|null|  null|       null|       alive|    null|        null|\n",
      "|cc533f70-0d61-11e...|2022-07-27 04:08:40|   2|    98|          4|       click|    null|           1|\n",
      "|a468f600-0071-11e...|2022-07-10 16:59:20|null|  null|       null|       alive|    null|        null|\n",
      "|a974f940-018f-11e...|2022-07-12 03:06:45|null|  null|       null|        null|    null|        null|\n",
      "|56311d00-0189-11e...|2022-07-12 02:21:28|null|  null|       null|       click|    null|        null|\n",
      "|23b590d0-fd52-11e...|2022-07-06 17:36:16|null|  null|       null|        null|    null|        null|\n",
      "+--------------------+-------------------+----+------+-----------+------------+--------+------------+\n",
      "only showing top 20 rows\n",
      "\n"
     ]
    }
   ],
   "source": [
    "process_df.show()"
   ]
  },
  {
   "cell_type": "code",
   "execution_count": 9,
   "metadata": {},
   "outputs": [
    {
     "data": {
      "text/plain": [
       "DataFrame[create_time: string, ts: string, bid: int, job_id: int, campaign_id: int, custom_track: string, group_id: int, publisher_id: int]"
      ]
     },
     "execution_count": 9,
     "metadata": {},
     "output_type": "execute_result"
    }
   ],
   "source": [
    "process_df.cache()"
   ]
  },
  {
   "cell_type": "code",
   "execution_count": 10,
   "metadata": {},
   "outputs": [],
   "source": [
    "click_data = process_df.filter(process_df.custom_track == 'click')"
   ]
  },
  {
   "cell_type": "code",
   "execution_count": 11,
   "metadata": {},
   "outputs": [
    {
     "name": "stdout",
     "output_type": "stream",
     "text": [
      "+--------------------+-------------------+----+------+-----------+------------+--------+------------+\n",
      "|         create_time|                 ts| bid|job_id|campaign_id|custom_track|group_id|publisher_id|\n",
      "+--------------------+-------------------+----+------+-----------+------------+--------+------------+\n",
      "|4e51fdb0-089c-11e...|2022-07-21 02:24:54|null|  null|       null|       click|    null|        null|\n",
      "|5a374880-0b38-11e...|2022-07-24 10:06:57|   1|   188|         48|       click|      34|           1|\n",
      "|6140b730-0668-11e...|2022-07-18 07:08:09|null|  null|       null|       click|    null|        null|\n",
      "|95b48750-0193-11e...|2022-07-12 03:34:50|null|  null|       null|       click|    null|        null|\n",
      "|a49e3a10-0975-11e...|2022-07-22 04:20:39|null|  null|       null|       click|    null|        null|\n",
      "|bbab1a50-018e-11e...|2022-07-12 03:00:06|null|  null|       null|       click|    null|        null|\n",
      "|bc3af1b0-0b67-11e...|2022-07-24 15:46:08|null|  null|       null|       click|    null|        null|\n",
      "|be352470-0cae-11e...|2022-07-26 06:46:57|   1|   258|         93|       click|    null|           1|\n",
      "|cb3ade10-018e-11e...|2022-07-12 03:00:32|null|  null|       null|       click|    null|        null|\n",
      "|ebbecd00-018d-11e...|2022-07-12 02:54:17|null|  null|       null|       click|    null|        null|\n",
      "|0c7babc0-fda7-11e...|2022-07-07 03:44:05|   0|   187|         48|       click|    null|           1|\n",
      "|1e87dda0-0bff-11e...|2022-07-25 09:49:47|   0|  1534|        222|       click|    null|           1|\n",
      "|7abb8390-0189-11e...|2022-07-12 02:22:29|null|  null|       null|       click|    null|        null|\n",
      "|7fee53d0-0a6a-11e...|2022-07-23 09:33:24|null|  null|       null|       click|    null|        null|\n",
      "|83167df0-00ea-11e...|2022-07-11 07:24:33|null|  null|       null|       click|    null|        null|\n",
      "|8ce37380-0caf-11e...|2022-07-26 06:52:44|   2|    98|          4|       click|    null|           1|\n",
      "|9ecc6690-099b-11e...|2022-07-22 08:52:30|null|  null|       null|       click|    null|        null|\n",
      "|b12df000-0d61-11e...|2022-07-27 04:07:55|   2|    98|          4|       click|    null|           1|\n",
      "|e1a01b60-0847-11e...|2022-07-20 16:20:33|null|  null|       null|       click|    null|        null|\n",
      "|f7963ac0-0d61-11e...|2022-07-27 04:09:53|   0|  1103|        151|       click|      28|           1|\n",
      "+--------------------+-------------------+----+------+-----------+------------+--------+------------+\n",
      "only showing top 20 rows\n",
      "\n"
     ]
    }
   ],
   "source": [
    "click_data.show()"
   ]
  },
  {
   "cell_type": "code",
   "execution_count": 12,
   "metadata": {},
   "outputs": [],
   "source": [
    "click_data = click_data.na.fill({'bid':0})\n",
    "click_data = click_data.na.fill({'job_id':0})\n",
    "click_data = click_data.na.fill({'campaign_id':0})\n",
    "click_data = click_data.na.fill({'group_id':0})\n",
    "click_data = click_data.na.fill({'publisher_id':0})"
   ]
  },
  {
   "cell_type": "code",
   "execution_count": 23,
   "metadata": {},
   "outputs": [
    {
     "name": "stderr",
     "output_type": "stream",
     "text": [
      "C:\\spark\\python\\pyspark\\sql\\dataframe.py:138: FutureWarning: Deprecated in 2.0, use createOrReplaceTempView instead.\n",
      "  warnings.warn(\n"
     ]
    }
   ],
   "source": [
    "click_data.registerTempTable('clicks')"
   ]
  },
  {
   "cell_type": "code",
   "execution_count": 24,
   "metadata": {},
   "outputs": [
    {
     "name": "stdout",
     "output_type": "stream",
     "text": [
      "+------+------------+----------+----+-----------+--------+----------+------+------------------+\n",
      "|job_id|publisher_id|      date|hour|campaign_id|group_id|spend_hour|clicks|           bid_set|\n",
      "+------+------------+----------+----+-----------+--------+----------+------+------------------+\n",
      "|     0|           0|2022-07-18|   7|          0|       0|         0|    21|               0.0|\n",
      "|     0|           0|2022-07-12|   2|          0|       0|         0|   165|               0.0|\n",
      "|     0|           0|2022-07-22|   4|          0|       0|         0|    10|               0.0|\n",
      "|     0|           0|2022-07-24|  15|          0|       0|         0|    10|               0.0|\n",
      "|     0|           0|2022-07-21|   2|          0|       0|         0|    26|               0.0|\n",
      "|   258|           1|2022-07-26|   6|         93|       0|        12|    12|               1.0|\n",
      "|   188|           1|2022-07-24|  10|         48|      34|        25|    25|               1.0|\n",
      "|     0|           0|2022-07-12|   3|          0|       0|         0|    79|               0.0|\n",
      "|     0|           0|2022-07-11|   7|          0|       0|         0|    72|               0.0|\n",
      "|     0|           0|2022-07-23|   9|          0|       0|         0|    12|               0.0|\n",
      "|    98|           1|2022-07-27|   4|          4|       0|        38|    19|               2.0|\n",
      "|  1103|           1|2022-07-27|   4|        151|      28|         0|     9|               0.0|\n",
      "|     0|           0|2022-07-20|  16|          0|       0|         0|     1|               0.0|\n",
      "|   187|           1|2022-07-07|   3|         48|       0|         2|     6|0.3333333333333333|\n",
      "|    98|           1|2022-07-26|   6|          4|       0|        28|    14|               2.0|\n",
      "|     0|           0|2022-07-22|   8|          0|       0|         0|    45|               0.0|\n",
      "|  1534|           1|2022-07-25|   9|        222|       0|         0|    17|               0.0|\n",
      "|  1533|           1|2022-07-25|   9|        222|       0|         0|    19|               0.0|\n",
      "|  1533|           1|2022-07-26|   3|        222|       0|         0|    11|               0.0|\n",
      "|   188|           1|2022-07-25|   9|         48|      34|        52|    52|               1.0|\n",
      "+------+------------+----------+----+-----------+--------+----------+------+------------------+\n",
      "only showing top 20 rows\n",
      "\n"
     ]
    }
   ],
   "source": [
    "spark.sql(\"\"\"with cte1 as (select create_time , ts , date(ts) as Date , hour(ts) as hour,\n",
    "bid,job_id,campaign_id,group_id,publisher_id from clicks)\n",
    "select job_id,publisher_id,date,hour,campaign_id,group_id ,\n",
    "sum(bid) as spend_hour , count(create_time) as clicks , avg(bid) as bid_set \n",
    "from cte1\n",
    "group by job_id,publisher_id,date,hour,campaign_id,group_id\"\"\").show()"
   ]
  },
  {
   "cell_type": "code",
   "execution_count": null,
   "metadata": {},
   "outputs": [],
   "source": []
  }
 ],
 "metadata": {
  "kernelspec": {
   "display_name": "Python 3 (ipykernel)",
   "language": "python",
   "name": "python3"
  },
  "language_info": {
   "codemirror_mode": {
    "name": "ipython",
    "version": 3
   },
   "file_extension": ".py",
   "mimetype": "text/x-python",
   "name": "python",
   "nbconvert_exporter": "python",
   "pygments_lexer": "ipython3",
   "version": "3.10.9"
  }
 },
 "nbformat": 4,
 "nbformat_minor": 4
}
